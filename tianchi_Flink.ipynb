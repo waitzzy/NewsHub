{
  "nbformat": 4,
  "nbformat_minor": 0,
  "metadata": {
    "colab": {
      "name": "tianchi_Flink.ipynb",
      "provenance": [],
      "collapsed_sections": [],
      "authorship_tag": "ABX9TyOtp5Yrom1WbGh/EcJ3sLmw",
      "include_colab_link": true
    },
    "kernelspec": {
      "name": "python3",
      "display_name": "Python 3"
    }
  },
  "cells": [
    {
      "cell_type": "markdown",
      "metadata": {
        "id": "view-in-github",
        "colab_type": "text"
      },
      "source": [
        "<a href=\"https://colab.research.google.com/github/waitzzy/NewsHub/blob/master/tianchi_Flink.ipynb\" target=\"_parent\"><img src=\"https://colab.research.google.com/assets/colab-badge.svg\" alt=\"Open In Colab\"/></a>"
      ]
    },
    {
      "cell_type": "code",
      "metadata": {
        "id": "f0jO5hj0JNNm",
        "colab_type": "code",
        "colab": {}
      },
      "source": [
        "import numpy as np\n",
        "import pandas as pd"
      ],
      "execution_count": 1,
      "outputs": []
    },
    {
      "cell_type": "code",
      "metadata": {
        "id": "iAl9AEt0O-Te",
        "colab_type": "code",
        "colab": {
          "base_uri": "https://localhost:8080/",
          "height": 204
        },
        "outputId": "7788e050-21e9-442a-dd1f-5f93001293ff"
      },
      "source": [
        "train_data = pd.read_csv(\"https://tianchi-competition.oss-cn-hangzhou.aliyuncs.com/531800/%E5%A4%A9%E6%B1%A0%E6%AF%94%E8%B5%9B%E6%95%B0%E6%8D%AE%E9%9B%86/train_data.csv\",sep = ';', header=None, names = ['uuid','face_id','device_id','feature_data'])\n",
        "train_data.head()"
      ],
      "execution_count": 8,
      "outputs": [
        {
          "output_type": "execute_result",
          "data": {
            "text/html": [
              "<div>\n",
              "<style scoped>\n",
              "    .dataframe tbody tr th:only-of-type {\n",
              "        vertical-align: middle;\n",
              "    }\n",
              "\n",
              "    .dataframe tbody tr th {\n",
              "        vertical-align: top;\n",
              "    }\n",
              "\n",
              "    .dataframe thead th {\n",
              "        text-align: right;\n",
              "    }\n",
              "</style>\n",
              "<table border=\"1\" class=\"dataframe\">\n",
              "  <thead>\n",
              "    <tr style=\"text-align: right;\">\n",
              "      <th></th>\n",
              "      <th>uuid</th>\n",
              "      <th>face_id</th>\n",
              "      <th>device_id</th>\n",
              "      <th>feature_data</th>\n",
              "    </tr>\n",
              "  </thead>\n",
              "  <tbody>\n",
              "    <tr>\n",
              "      <th>0</th>\n",
              "      <td>2573993</td>\n",
              "      <td>11101412000220200514000004677320667732</td>\n",
              "      <td>1110141200</td>\n",
              "      <td>-0.0308685 -0.0287476 -0.0645752 -0.000742435 ...</td>\n",
              "    </tr>\n",
              "    <tr>\n",
              "      <th>1</th>\n",
              "      <td>2573995</td>\n",
              "      <td>1110131630220200514000002367070636707</td>\n",
              "      <td>111013163</td>\n",
              "      <td>0.0802612 -0.0274048 0.0358887 -0.0366821 -0.0...</td>\n",
              "    </tr>\n",
              "    <tr>\n",
              "      <th>2</th>\n",
              "      <td>2573996</td>\n",
              "      <td>11101212000220200514000018790280679028</td>\n",
              "      <td>1110121200</td>\n",
              "      <td>-0.007164 -0.0150299 0.0134659 -0.00733948 -0....</td>\n",
              "    </tr>\n",
              "    <tr>\n",
              "      <th>3</th>\n",
              "      <td>2573997</td>\n",
              "      <td>11101212000220200514000021857810685781</td>\n",
              "      <td>1110121200</td>\n",
              "      <td>-0.0485229 -0.00308037 -0.00849915 0.0863037 0...</td>\n",
              "    </tr>\n",
              "    <tr>\n",
              "      <th>4</th>\n",
              "      <td>2573998</td>\n",
              "      <td>11101412000220200514000009891570689157</td>\n",
              "      <td>1110141200</td>\n",
              "      <td>-0.122009 -0.0189514 -0.0148392 -0.0237579 0.0...</td>\n",
              "    </tr>\n",
              "  </tbody>\n",
              "</table>\n",
              "</div>"
            ],
            "text/plain": [
              "      uuid  ...                                       feature_data\n",
              "0  2573993  ...  -0.0308685 -0.0287476 -0.0645752 -0.000742435 ...\n",
              "1  2573995  ...  0.0802612 -0.0274048 0.0358887 -0.0366821 -0.0...\n",
              "2  2573996  ...  -0.007164 -0.0150299 0.0134659 -0.00733948 -0....\n",
              "3  2573997  ...  -0.0485229 -0.00308037 -0.00849915 0.0863037 0...\n",
              "4  2573998  ...  -0.122009 -0.0189514 -0.0148392 -0.0237579 0.0...\n",
              "\n",
              "[5 rows x 4 columns]"
            ]
          },
          "metadata": {
            "tags": []
          },
          "execution_count": 8
        }
      ]
    },
    {
      "cell_type": "code",
      "metadata": {
        "id": "HGYHSTPRQoKB",
        "colab_type": "code",
        "colab": {
          "base_uri": "https://localhost:8080/",
          "height": 204
        },
        "outputId": "9b22d15f-d452-4d20-a2a6-33b0efffa2a1"
      },
      "source": [
        "lable_data = pd.read_csv(\"https://tianchi-competition.oss-cn-hangzhou.aliyuncs.com/531800/%E5%A4%A9%E6%B1%A0%E6%AF%94%E8%B5%9B%E6%95%B0%E6%8D%AE%E9%9B%86/label_file.csv\",sep = ';', header=None, names = ['face_id','p_id'])\n",
        "lable_data.head()"
      ],
      "execution_count": 10,
      "outputs": [
        {
          "output_type": "execute_result",
          "data": {
            "text/html": [
              "<div>\n",
              "<style scoped>\n",
              "    .dataframe tbody tr th:only-of-type {\n",
              "        vertical-align: middle;\n",
              "    }\n",
              "\n",
              "    .dataframe tbody tr th {\n",
              "        vertical-align: top;\n",
              "    }\n",
              "\n",
              "    .dataframe thead th {\n",
              "        text-align: right;\n",
              "    }\n",
              "</style>\n",
              "<table border=\"1\" class=\"dataframe\">\n",
              "  <thead>\n",
              "    <tr style=\"text-align: right;\">\n",
              "      <th></th>\n",
              "      <th>face_id</th>\n",
              "      <th>p_id</th>\n",
              "    </tr>\n",
              "  </thead>\n",
              "  <tbody>\n",
              "    <tr>\n",
              "      <th>0</th>\n",
              "      <td>11101712050220200517151446986310698631</td>\n",
              "      <td>0</td>\n",
              "    </tr>\n",
              "    <tr>\n",
              "      <th>1</th>\n",
              "      <td>11101712050220200517151445150620615062</td>\n",
              "      <td>0</td>\n",
              "    </tr>\n",
              "    <tr>\n",
              "      <th>2</th>\n",
              "      <td>11101712050220200517151446929540692954</td>\n",
              "      <td>0</td>\n",
              "    </tr>\n",
              "    <tr>\n",
              "      <th>3</th>\n",
              "      <td>11101412010220200517173124807730680773</td>\n",
              "      <td>0</td>\n",
              "    </tr>\n",
              "    <tr>\n",
              "      <th>4</th>\n",
              "      <td>11101412010220200517173125959370695937</td>\n",
              "      <td>0</td>\n",
              "    </tr>\n",
              "  </tbody>\n",
              "</table>\n",
              "</div>"
            ],
            "text/plain": [
              "                                  face_id  p_id\n",
              "0  11101712050220200517151446986310698631     0\n",
              "1  11101712050220200517151445150620615062     0\n",
              "2  11101712050220200517151446929540692954     0\n",
              "3  11101412010220200517173124807730680773     0\n",
              "4  11101412010220200517173125959370695937     0"
            ]
          },
          "metadata": {
            "tags": []
          },
          "execution_count": 10
        }
      ]
    },
    {
      "cell_type": "code",
      "metadata": {
        "id": "8aAz6uWYSfS0",
        "colab_type": "code",
        "colab": {}
      },
      "source": [
        ""
      ],
      "execution_count": null,
      "outputs": []
    }
  ]
}